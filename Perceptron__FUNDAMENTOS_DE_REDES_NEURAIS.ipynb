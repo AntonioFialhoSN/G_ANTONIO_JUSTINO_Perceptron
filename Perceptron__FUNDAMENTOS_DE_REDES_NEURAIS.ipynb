{
  "nbformat": 4,
  "nbformat_minor": 0,
  "metadata": {
    "colab": {
      "provenance": [],
      "authorship_tag": "ABX9TyMpLTwJbvCosNLFN037c64H",
      "include_colab_link": true
    },
    "kernelspec": {
      "name": "python3",
      "display_name": "Python 3"
    },
    "language_info": {
      "name": "python"
    }
  },
  "cells": [
    {
      "cell_type": "markdown",
      "metadata": {
        "id": "view-in-github",
        "colab_type": "text"
      },
      "source": [
        "<a href=\"https://colab.research.google.com/github/AntonioFialhoSN/Perceptron/blob/main/Perceptron__FUNDAMENTOS_DE_REDES_NEURAIS.ipynb\" target=\"_parent\"><img src=\"https://colab.research.google.com/assets/colab-badge.svg\" alt=\"Open In Colab\"/></a>"
      ]
    },
    {
      "cell_type": "markdown",
      "source": [
        "# REDES NEURAIS ARTIFICIAIS -> PRECEPTRON\n",
        "#+Antonio Fialho; Contato => antonio.fialho@discente.ufma.br\n"
      ],
      "metadata": {
        "id": "XR-At1XocDTk"
      }
    },
    {
      "cell_type": "markdown",
      "source": [
        "# Introdução\n",
        "## Explicação conceitual:"
      ],
      "metadata": {
        "id": "BofFlN58ct7E"
      }
    },
    {
      "cell_type": "code",
      "execution_count": null,
      "metadata": {
        "id": "D-WW93DNbf5i"
      },
      "outputs": [],
      "source": []
    },
    {
      "cell_type": "markdown",
      "source": [
        "## Estrutura básica do Perceptron"
      ],
      "metadata": {
        "id": "70tXI1atdwkT"
      }
    },
    {
      "cell_type": "code",
      "source": [],
      "metadata": {
        "id": "DQUVN7j8eHHy"
      },
      "execution_count": null,
      "outputs": []
    },
    {
      "cell_type": "markdown",
      "source": [
        "##Fórmulas matemáticas detalhadas"
      ],
      "metadata": {
        "id": "fpkAaHOrd3dq"
      }
    },
    {
      "cell_type": "code",
      "source": [],
      "metadata": {
        "id": "TC2fbKvBeH16"
      },
      "execution_count": null,
      "outputs": []
    },
    {
      "cell_type": "markdown",
      "source": [
        "##Explicação passo a passo das fórmulas e do funcionamento do algoritmo"
      ],
      "metadata": {
        "id": "G_Xkvshpd9zC"
      }
    },
    {
      "cell_type": "code",
      "source": [],
      "metadata": {
        "id": "NaAtngmIeIgS"
      },
      "execution_count": null,
      "outputs": []
    },
    {
      "cell_type": "markdown",
      "source": [
        "# Aplicação do Perceptron aos problemas lógicos OR e AND"
      ],
      "metadata": {
        "id": "7wDet55TeI1b"
      }
    },
    {
      "cell_type": "code",
      "source": [],
      "metadata": {
        "id": "zk1Q7Nb3eQtT"
      },
      "execution_count": null,
      "outputs": []
    },
    {
      "cell_type": "markdown",
      "source": [
        "##Criação manual dos datasets OR e AND"
      ],
      "metadata": {
        "id": "Mv7bmy3xeQ_q"
      }
    },
    {
      "cell_type": "code",
      "source": [],
      "metadata": {
        "id": "7RvqM3XoeeWD"
      },
      "execution_count": null,
      "outputs": []
    },
    {
      "cell_type": "markdown",
      "source": [
        "##Implementação do algoritmo do Perceptron para treinar e testar nesses datasets"
      ],
      "metadata": {
        "id": "3hd06DDNedti"
      }
    },
    {
      "cell_type": "code",
      "source": [],
      "metadata": {
        "id": "H8xKm0AjekdD"
      },
      "execution_count": null,
      "outputs": []
    },
    {
      "cell_type": "markdown",
      "source": [
        "## Gráficos demonstrando o treinamento e resultados"
      ],
      "metadata": {
        "id": "pd8xXE1tekmF"
      }
    },
    {
      "cell_type": "code",
      "source": [],
      "metadata": {
        "id": "oqlJyGhMepP7"
      },
      "execution_count": null,
      "outputs": []
    },
    {
      "cell_type": "markdown",
      "source": [
        "##Explicação detalhada das decisões gráficas (fronteiras de decisão)"
      ],
      "metadata": {
        "id": "gS93cjvnepor"
      }
    },
    {
      "cell_type": "code",
      "source": [],
      "metadata": {
        "id": "qZciWqqOesob"
      },
      "execution_count": null,
      "outputs": []
    },
    {
      "cell_type": "markdown",
      "source": [
        "# Discussão do problema XOR e suas implicações para a evolução das redes neurais"
      ],
      "metadata": {
        "id": "-_JXaWvOetIL"
      }
    },
    {
      "cell_type": "code",
      "source": [],
      "metadata": {
        "id": "pbstDQ4Sexgb"
      },
      "execution_count": null,
      "outputs": []
    },
    {
      "cell_type": "markdown",
      "source": [
        "## Demonstração gráfica e experimental da incapacidade do Perceptron em resolver o problema XOR"
      ],
      "metadata": {
        "id": "eNBDRmrceyS7"
      }
    },
    {
      "cell_type": "code",
      "source": [],
      "metadata": {
        "id": "MuPIS_8ge7qS"
      },
      "execution_count": null,
      "outputs": []
    },
    {
      "cell_type": "markdown",
      "source": [
        "## Discussão conceitual sobre a limitação do modelo linear"
      ],
      "metadata": {
        "id": "8_hTYfaEe8NS"
      }
    },
    {
      "cell_type": "code",
      "source": [],
      "metadata": {
        "id": "yA9Ko2zse_2r"
      },
      "execution_count": null,
      "outputs": []
    },
    {
      "cell_type": "markdown",
      "source": [
        "##Contextualização histórica: como o problema XOR levou à criação de redes multicamadas (MLP)"
      ],
      "metadata": {
        "id": "VWgY9cV9fAHC"
      }
    },
    {
      "cell_type": "code",
      "source": [],
      "metadata": {
        "id": "8-QZ54xufDwS"
      },
      "execution_count": null,
      "outputs": []
    }
  ]
}